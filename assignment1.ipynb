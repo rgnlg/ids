{
 "cells": [
  {
   "cell_type": "markdown",
   "metadata": {},
   "source": [
    "### Olga Iarygina"
   ]
  },
  {
   "cell_type": "markdown",
   "metadata": {},
   "source": [
    "This is the first assignment for Introduction to Data Science Course.\n",
    "In this assignment I am going to analyze how does smoking affect lunge capacity. For this I calculate some basic statistical measures and provide some data visualisation."
   ]
  },
  {
   "cell_type": "code",
   "execution_count": 1,
   "metadata": {},
   "outputs": [],
   "source": [
    "%matplotlib inline\n",
    "import numpy as np\n",
    "import matplotlib.pyplot as plt"
   ]
  },
  {
   "cell_type": "markdown",
   "metadata": {},
   "source": [
    "### exercise 1"
   ]
  },
  {
   "cell_type": "markdown",
   "metadata": {},
   "source": [
    "a) Fisrt of all, I just read the data, and divide it into 2 groups - smokers and non-smokers.\n",
    "From the description of the dataset we know, that information about whether the person smokes or not is stored in the 5th column. So, in order to split I just filter the main dataset according the column values."
   ]
  },
  {
   "cell_type": "code",
   "execution_count": 2,
   "metadata": {},
   "outputs": [
    {
     "name": "stdout",
     "output_type": "stream",
     "text": [
      "(654, 6)\n"
     ]
    }
   ],
   "source": [
    "df = np.loadtxt('smoking.txt')\n",
    "print(df.shape)"
   ]
  },
  {
   "cell_type": "code",
   "execution_count": 3,
   "metadata": {},
   "outputs": [],
   "source": [
    "smokers = df[df[:, 4] == 1]\n",
    "non_smokers = df[df[:, 4] == 0]"
   ]
  },
  {
   "cell_type": "markdown",
   "metadata": {},
   "source": [
    "b) Then I compute the average FEV1 scores for smokers and non-smokers separately."
   ]
  },
  {
   "cell_type": "code",
   "execution_count": 4,
   "metadata": {},
   "outputs": [
    {
     "name": "stdout",
     "output_type": "stream",
     "text": [
      "Average FEV1 for smokers:  3.2768615384615383 \n",
      "Average FEV1 for non-smokers:  2.5661426146010187\n"
     ]
    }
   ],
   "source": [
    "smokers_mean = np.mean(smokers[:, 1])\n",
    "non_smokers_mean = np.mean(non_smokers[:, 1])\n",
    "print(\"Average FEV1 for smokers: \", smokers_mean, \n",
    "     \"\\nAverage FEV1 for non-smokers: \", non_smokers_mean)"
   ]
  },
  {
   "cell_type": "markdown",
   "metadata": {},
   "source": [
    "Quite surprisingly, but the smokers have larger average forced expiratory volume!\n",
    "Maybe visualisation will provide some insights about the reasons of this illogicality."
   ]
  },
  {
   "cell_type": "markdown",
   "metadata": {},
   "source": [
    "### exercise 2"
   ]
  },
  {
   "cell_type": "markdown",
   "metadata": {},
   "source": [
    "In this exercise I plot the data about FEV1 with boxplots for 2 groups."
   ]
  },
  {
   "cell_type": "code",
   "execution_count": 8,
   "metadata": {
    "scrolled": false
   },
   "outputs": [
    {
     "data": {
      "image/png": "[encoded data removed]",
      "text/plain": [
       "<Figure size 432x288 with 1 Axes>"
      ]
     },
     "metadata": {
      "needs_background": "light"
     },
     "output_type": "display_data"
    }
   ],
   "source": [
    "x = smokers[:, 1]\n",
    "y = non_smokers[:, 1]\n",
    "\n",
    "labels = ['smokers', 'non-smokers']\n",
    "plt.boxplot([x, y], labels = labels)\n",
    "\n",
    "plt.title('Boxplot over FEV1 for smokers and non-smokers')\n",
    "plt.ylabel('lunge capacity')\n",
    "plt.show()"
   ]
  },
  {
   "cell_type": "markdown",
   "metadata": {},
   "source": [
    "So, looking at smokers boxplot, we can see that the their FEV1 is distributed from ~1.5 to ~4.8, with the median value a little bit above 3. And half of the observations are from about ~2.9 to ~3.7.\n",
    "\n",
    "And we have much lower values for non-smokers. The sallest is lower than 1, median is about ~2.5, and most of the observations do not exceed three. Noticeably, we have some amount of outliers with a АУМ1 of about 5 or more. \n",
    "\n",
    "Actually, I am still quite surprised abiut the distributions, so I decided to check how many people are in different groups, and here the results are getting more understandable, since we have almost 9 times more non-smokers than smokers."
   ]
  },
  {
   "cell_type": "code",
   "execution_count": 9,
   "metadata": {},
   "outputs": [
    {
     "name": "stdout",
     "output_type": "stream",
     "text": [
      "The number of smokers:  (65,) \n",
      "The number of non-smokers:  (589,)\n"
     ]
    }
   ],
   "source": [
    "print(\"The number of smokers: \", x.shape,\n",
    "     \"\\nThe number of non-smokers: \", y.shape)"
   ]
  },
  {
   "cell_type": "markdown",
   "metadata": {},
   "source": [
    "### exercise 3"
   ]
  },
  {
   "cell_type": "markdown",
   "metadata": {},
   "source": [
    "So, in order to understand whether the populations have significantly different means, here we move to the two-sided t-test. In this case, the null-hypothesis will be the following:\n",
    "\n",
    "H0: smokers and non-smokers have the same mean FEV1.\n",
    "\n",
    "As recommended, I use the significance level of α = 0.05.\n",
    "I tried to implement the testing by myself and made a function, which returns just a binary responce if the hypothesis is rejected or not. I also decided to scheck myself with a scipy function.\n",
    "\n",
    "(*) I used scipy also to calculate Cumulative Distrivution Function and the inverse of it"
   ]
  },
  {
   "cell_type": "code",
   "execution_count": 11,
   "metadata": {},
   "outputs": [],
   "source": [
    "from scipy.stats import t\n",
    "\n",
    "def ttest(sample1, sample2, alpha):\n",
    "    \n",
    "    # means\n",
    "    mean1, mean2 = np.mean(sample1), np.mean(sample2)\n",
    "    # standard errors\n",
    "    se1, se2 = (np.std(sample1, ddof = 1) / np.sqrt(np.size(sample1))), (np.std(sample2, ddof = 1) / np.sqrt(np.size(sample2)))\n",
    "    # standard errors of the difference between two samples\n",
    "    se_diff = np.sqrt(se1 ** 2 + se2 ** 2)\n",
    "    # t-statistic\n",
    "    t_stat = (mean1 - mean2) / se_diff\n",
    "    # degrees of freedom\n",
    "    dof = (len(sample1) + len(sample2)) - 2\n",
    "    # critical value\n",
    "    cv = t.ppf(1 - alpha, dof)\n",
    "    # p-value\n",
    "    p_value = (1.0 - t.cdf(abs(t_stat), dof)) * 2\n",
    "    \n",
    "    # rejection\n",
    "    rej = 0\n",
    "    if p_value < 0.05:\n",
    "        rej = True\n",
    "    else:\n",
    "        rej = False\n",
    "    \n",
    "    return print(\"T-statistic: \", t_stat, \n",
    "                 \"\\nDegrees of Freedom: \", dof,\n",
    "                 \"\\nP-value: \", p_value, \n",
    "                 \"\\nCan we reject the H0?: \", rej)"
   ]
  },
  {
   "cell_type": "code",
   "execution_count": 12,
   "metadata": {},
   "outputs": [
    {
     "name": "stdout",
     "output_type": "stream",
     "text": [
      "T-statistic:  7.149608129503808 \n",
      "Degrees of Freedom:  652 \n",
      "P-value:  2.34168240353938e-12 \n",
      "Can we reject the H0?:  True\n"
     ]
    }
   ],
   "source": [
    "ttest(x, y, 0.05)"
   ]
  },
  {
   "cell_type": "code",
   "execution_count": 13,
   "metadata": {},
   "outputs": [
    {
     "name": "stdout",
     "output_type": "stream",
     "text": [
      "Ttest_indResult(statistic=6.46445317259654, pvalue=1.9928459182932803e-10)\n"
     ]
    }
   ],
   "source": [
    "from scipy import stats\n",
    "print(stats.ttest_ind(x, y))"
   ]
  },
  {
   "cell_type": "markdown",
   "metadata": {},
   "source": [
    "The values of t-statistic, which measures the standardized difference between the two sample means, are slightly different in my implementation and SciPy function. Hence, the p-value is much smaller than 0.05 in both cases, which means that the probability that the results from the sample data occurred by chance is minimal. Therefore, we can reject the null-hypothesis that smokers and non-smokers have the same mean FEV1.\n",
    "\n",
    "Quite surprising again, really!"
   ]
  },
  {
   "cell_type": "markdown",
   "metadata": {},
   "source": [
    "### exercise 4"
   ]
  },
  {
   "cell_type": "markdown",
   "metadata": {},
   "source": [
    "In this exercise we proceed to computing thecorrelation between age and FEV1. \n",
    "I plot it then in 2D with different colors for smokers and non-smokers."
   ]
  },
  {
   "cell_type": "code",
   "execution_count": 14,
   "metadata": {},
   "outputs": [
    {
     "name": "stdout",
     "output_type": "stream",
     "text": [
      "[[1.         0.75645899]\n",
      " [0.75645899 1.        ]]\n"
     ]
    }
   ],
   "source": [
    "corr = np.corrcoef(df[:, 0], df[:, 1])\n",
    "print(corr)"
   ]
  },
  {
   "cell_type": "code",
   "execution_count": 17,
   "metadata": {
    "scrolled": true
   },
   "outputs": [
    {
     "data": {
      "image/png": "[encoded data removed]",
      "text/plain": [
       "<Figure size 432x288 with 1 Axes>"
      ]
     },
     "metadata": {
      "needs_background": "light"
     },
     "output_type": "display_data"
    }
   ],
   "source": [
    "scatter = plt.scatter(df[:, 0], df[:, 1], c = df[:, 4], cmap='viridis')\n",
    "\n",
    "classes = [\"non-smokers\", \"smokers\"]\n",
    "plt.legend(handles = scatter.legend_elements()[0], \n",
    "           labels = classes)\n",
    "\n",
    "plt.title('Scatterplot over age and FEV1 for smokers and non-smokers')\n",
    "plt.xlabel('age')\n",
    "plt.ylabel('fev1')\n",
    "\n",
    "plt.show()"
   ]
  },
  {
   "cell_type": "markdown",
   "metadata": {},
   "source": [
    "Well, things are getting more and more interesting. First of all, I did not expect that the sample is composed of so yong people.\n",
    "That explains literally everything. \n",
    "We definetely have 9 times less smokers because all people are under 20, and children are not supposed to smoke usually.\n",
    "We have such small values of FEV1 for non-smokers just because these are the lunges of children of 4 years old. \n",
    "And we have the larger mean FEV1 for non-smokers, because these people are just older than children who are corny small in size. \n",
    "\n",
    "And we see a positive correlation coefficient, supporting the claim that lunge capacity depends on age, at least for people under 20, since people are tend to grow up during this span of life. So, the elder the person, the higher FEV1 he/she has."
   ]
  },
  {
   "cell_type": "markdown",
   "metadata": {},
   "source": [
    "### exercise 5"
   ]
  },
  {
   "cell_type": "markdown",
   "metadata": {},
   "source": [
    "Finally, in order to support my claims, I visualise the age distriution for smokers and non-smokers separately.\n",
    "And we see that most of the sample is composed of people from 8 to twelve. And it is slightly left-skewed, so we have not a lot of people older than 14. While in this sample the youngest smoking person is 9 years old. \n",
    "\n",
    "That is why we got such unexpected numbers in the first excersises."
   ]
  },
  {
   "cell_type": "code",
   "execution_count": 21,
   "metadata": {},
   "outputs": [
    {
     "data": {
      "image/png": "[encoded data removed]",
      "text/plain": [
       "<Figure size 432x288 with 1 Axes>"
      ]
     },
     "metadata": {
      "needs_background": "light"
     },
     "output_type": "display_data"
    }
   ],
   "source": [
    "plt.hist(non_smokers[:, 0], color = 'red', label = 'non-smokers')\n",
    "plt.hist(smokers[:, 0], label = 'smokers')\n",
    "\n",
    "plt.xlabel('age')\n",
    "plt.ylabel('count')\n",
    "plt.title('Histogram over age in smokers and non-smokers')\n",
    "plt.legend()\n",
    "\n",
    "plt.show()"
   ]
  }
 ],
 "metadata": {
  "kernelspec": {
   "display_name": "Python 3",
   "language": "python",
   "name": "python3"
  },
  "language_info": {
   "codemirror_mode": {
    "name": "ipython",
    "version": 3
   },
   "file_extension": ".py",
   "mimetype": "text/x-python",
   "name": "python",
   "nbconvert_exporter": "python",
   "pygments_lexer": "ipython3",
   "version": "3.8.3"
  }
 },
 "nbformat": 4,
 "nbformat_minor": 4
}
